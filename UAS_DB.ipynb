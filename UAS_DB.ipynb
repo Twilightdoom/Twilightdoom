{
  "nbformat": 4,
  "nbformat_minor": 0,
  "metadata": {
    "colab": {
      "provenance": [],
      "collapsed_sections": [],
      "authorship_tag": "ABX9TyN7yqL9xq+n01/aM/pis59k",
      "include_colab_link": true
    },
    "kernelspec": {
      "name": "python3",
      "display_name": "Python 3"
    },
    "language_info": {
      "name": "python"
    }
  },
  "cells": [
    {
      "cell_type": "markdown",
      "metadata": {
        "id": "view-in-github",
        "colab_type": "text"
      },
      "source": [
        "<a href=\"https://colab.research.google.com/github/Twilightdoom/Twilightdoom/blob/main/UAS_DB.ipynb\" target=\"_parent\"><img src=\"https://colab.research.google.com/assets/colab-badge.svg\" alt=\"Open In Colab\"/></a>"
      ]
    },
    {
      "cell_type": "code",
      "execution_count": null,
      "metadata": {
        "id": "XLJ5fMeD1Rio"
      },
      "outputs": [],
      "source": [
        "from numpy.random import uniform, normal, randint, rand\n",
        "import numpy as np\n",
        "import pandas as pd\n",
        "\n",
        "def generate_dataset(seed):\n",
        "    np.random.seed(seed)\n",
        "    \n",
        "    x = np.array([])\n",
        "    y = np.array([])\n",
        "    loop = randint(10,15)\n",
        "\n",
        "    for i in range(loop):\n",
        "        x = np.append(x, np.random.normal(randint(10), rand(), 20))\n",
        "        y = np.append(y, np.random.normal(randint(10), rand(), 20))\n",
        "        \n",
        "    df = pd.DataFrame(data = {'x': x, 'y':y})\n",
        "    df.to_csv('dataset.csv', index=False)"
      ]
    },
    {
      "cell_type": "code",
      "source": [
        "student_id = 2440026231 #change this to your student id\n",
        "\n",
        "generate_dataset(student_id)"
      ],
      "metadata": {
        "id": "HcpveMh51Vyn"
      },
      "execution_count": null,
      "outputs": []
    },
    {
      "cell_type": "code",
      "source": [
        "from sklearn.cluster import KMeans\n",
        "from sklearn.preprocessing import MinMaxScaler\n",
        "from matplotlib import pyplot as pptA\n",
        "setdata = pd.read_csv (r'/content/dataset.csv')\n",
        "print(setdata)"
      ],
      "metadata": {
        "colab": {
          "base_uri": "https://localhost:8080/"
        },
        "id": "E_8NwXud1oAN",
        "outputId": "9e41097b-663e-4d3b-bbc7-bf4e5b1c7cc7"
      },
      "execution_count": null,
      "outputs": [
        {
          "output_type": "stream",
          "name": "stdout",
          "text": [
            "            x         y\n",
            "0    6.104825  3.107761\n",
            "1    5.471582  2.018371\n",
            "2    6.353486  1.776499\n",
            "3    8.067887  2.401249\n",
            "4    5.559781  1.873699\n",
            "..        ...       ...\n",
            "235  9.202076  4.575250\n",
            "236  9.040688  5.833786\n",
            "237  8.714677  4.520918\n",
            "238  9.323615  6.159275\n",
            "239  9.150075  5.751090\n",
            "\n",
            "[240 rows x 2 columns]\n"
          ]
        }
      ]
    },
    {
      "cell_type": "code",
      "source": [
        "\n",
        "pptA.scatter(table['x'],table['y'])\n",
        "pptA.xlabel('x')\n",
        "pptA.ylabel('y')"
      ],
      "metadata": {
        "colab": {
          "base_uri": "https://localhost:8080/",
          "height": 301
        },
        "id": "Raim5W6b3dxf",
        "outputId": "c26ecac7-1d55-4891-d32a-43ecfe08bf7f"
      },
      "execution_count": null,
      "outputs": [
        {
          "output_type": "execute_result",
          "data": {
            "text/plain": [
              "Text(0, 0.5, 'y')"
            ]
          },
          "metadata": {},
          "execution_count": 57
        },
        {
          "output_type": "display_data",
          "data": {
            "text/plain": [
              "<Figure size 432x288 with 1 Axes>"
            ],
            "image/png": "[encoded data removed]"
          },
          "metadata": {
            "needs_background": "light"
          }
        }
      ]
    },
    {
      "cell_type": "code",
      "source": [
        "Km = KMeans(n_clusters=2)\n",
        "y_predicted = Km.fit_predict(table[['x','y']])\n",
        "y_predicted"
      ],
      "metadata": {
        "colab": {
          "base_uri": "https://localhost:8080/"
        },
        "id": "D2LbOCBq8el2",
        "outputId": "8a8c0790-60ce-47a3-dc69-ba8475b33a3d"
      },
      "execution_count": null,
      "outputs": [
        {
          "output_type": "execute_result",
          "data": {
            "text/plain": [
              "array([1, 0, 0, 1, 0, 0, 0, 0, 0, 0, 0, 0, 0, 0, 0, 0, 0, 0, 1, 1, 1, 1,\n",
              "       1, 1, 1, 1, 1, 1, 1, 1, 1, 1, 1, 1, 1, 1, 1, 1, 1, 1, 1, 1, 1, 1,\n",
              "       1, 1, 1, 1, 1, 1, 1, 1, 1, 1, 1, 1, 1, 1, 1, 1, 1, 1, 1, 1, 1, 1,\n",
              "       1, 1, 1, 1, 1, 1, 1, 1, 1, 1, 1, 1, 1, 1, 0, 0, 0, 0, 0, 0, 0, 0,\n",
              "       0, 0, 0, 0, 0, 0, 0, 0, 0, 0, 0, 0, 0, 0, 0, 0, 0, 0, 0, 0, 0, 0,\n",
              "       0, 0, 0, 0, 0, 0, 0, 0, 0, 0, 0, 0, 0, 0, 0, 0, 0, 0, 0, 0, 0, 0,\n",
              "       0, 0, 0, 0, 0, 0, 0, 0, 1, 1, 1, 1, 1, 1, 1, 1, 1, 1, 1, 1, 1, 1,\n",
              "       1, 1, 1, 1, 1, 1, 1, 1, 1, 1, 1, 1, 1, 1, 1, 1, 1, 1, 1, 1, 1, 1,\n",
              "       1, 1, 1, 1, 0, 0, 0, 0, 0, 0, 0, 0, 0, 0, 0, 0, 0, 0, 0, 0, 0, 0,\n",
              "       0, 0, 0, 0, 0, 0, 0, 0, 0, 0, 0, 0, 0, 0, 0, 0, 0, 0, 0, 0, 0, 0,\n",
              "       1, 1, 1, 1, 1, 1, 1, 1, 1, 1, 1, 1, 1, 1, 1, 1, 1, 1, 1, 1],\n",
              "      dtype=int32)"
            ]
          },
          "metadata": {},
          "execution_count": 58
        }
      ]
    },
    {
      "cell_type": "code",
      "source": [
        "setdata['cluster']=y_predicted\n",
        "setdata.head()\n",
        "tabs1 = setdata[setdata.cluster==0]\n",
        "tabs2 = setdata[setdata.cluster==1]\n",
        "pptA.scatter(tabs1.x,tabs1.y, color = 'red')\n",
        "pptA.scatter(tabs2.x,tabs2.y, color = 'black')\n",
        "pptA.title('Cluster plot')\n",
        "pptA.xlabel('x')\n",
        "pptA.ylabel('y')\n",
        "\n",
        "pptA.legend()"
      ],
      "metadata": {
        "colab": {
          "base_uri": "https://localhost:8080/",
          "height": 332
        },
        "id": "21YwWGh28gHI",
        "outputId": "8fa6e0a1-5e06-436c-9430-a97a4dec9fca"
      },
      "execution_count": null,
      "outputs": [
        {
          "output_type": "stream",
          "name": "stderr",
          "text": [
            "No handles with labels found to put in legend.\n"
          ]
        },
        {
          "output_type": "execute_result",
          "data": {
            "text/plain": [
              "<matplotlib.legend.Legend at 0x7f9894801110>"
            ]
          },
          "metadata": {},
          "execution_count": 66
        },
        {
          "output_type": "display_data",
          "data": {
            "text/plain": [
              "<Figure size 432x288 with 1 Axes>"
            ],
            "image/png": "[encoded data removed]"
          },
          "metadata": {
            "needs_background": "light"
          }
        }
      ]
    },
    {
      "cell_type": "code",
      "source": [
        "distorsi = []\n",
        "K_plot = range(1,10)\n",
        "for Km in K_plot:\n",
        " kmeanModel = KMeans(n_clusters=Km)\n",
        " kmeanModel.fit(setdata)\n",
        " distorsi.append(kmeanModel.inertia_)\n",
        "\n",
        "pptA.figure(figsize=(10,6))\n",
        "pptA.plot(K, distorsi, 'bx-')\n",
        "pptA.title('Elbow method')\n",
        "\n",
        "pptA.ylabel('Distortion')\n",
        "pptA.xlabel('k')\n",
        "\n",
        "pptA.show()"
      ],
      "metadata": {
        "colab": {
          "base_uri": "https://localhost:8080/",
          "height": 404
        },
        "id": "ddq8paPC82S4",
        "outputId": "1bec2179-93c9-46cb-f372-c83c8d957262"
      },
      "execution_count": null,
      "outputs": [
        {
          "output_type": "display_data",
          "data": {
            "text/plain": [
              "<Figure size 720x432 with 1 Axes>"
            ],
            "image/png": "[encoded data removed]"
          },
          "metadata": {
            "needs_background": "light"
          }
        }
      ]
    }
  ]
}